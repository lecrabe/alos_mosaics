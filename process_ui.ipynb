{
 "cells": [
  {
   "cell_type": "code",
   "execution_count": 1,
   "metadata": {},
   "outputs": [
    {
     "data": {
      "application/vnd.jupyter.widget-view+json": {
       "model_id": "9a1188f24f08414d8be37775c4715248",
       "version_major": 2,
       "version_minor": 0
      },
      "text/plain": [
       "HTML(value='\\n<style>\\n.leaflet-pane {\\n    z-index : 2 !important;\\n}\\n.leaflet-top, .leaflet-bottom {\\n    z…"
      ]
     },
     "metadata": {},
     "output_type": "display_data"
    },
    {
     "data": {
      "application/vnd.jupyter.widget-view+json": {
       "model_id": "433bc5af33e34a27943ccad266dd76b2",
       "version_major": 2,
       "version_minor": 0
      },
      "text/plain": [
       "ResizeTrigger()"
      ]
     },
     "metadata": {},
     "output_type": "display_data"
    }
   ],
   "source": [
    "from component import io \n",
    "from component import tile"
   ]
  },
  {
   "cell_type": "code",
   "execution_count": null,
   "metadata": {},
   "outputs": [],
   "source": [
    "###Dummy aoi_io (uncomment for test)\n",
    "\n",
    "#from sepal_ui import aoi\n",
    "#aoi_io = aoi.Aoi_io(default_asset='users/dannunzio/aoi_cafi') # a default assetId can be directly set in the constructor "
   ]
  },
  {
   "cell_type": "code",
   "execution_count": null,
   "metadata": {},
   "outputs": [],
   "source": [
    "# define the io of your tile \n",
    "# it should be a mutable object that can be called in your tiles\n",
    "process_io = io.Process()"
   ]
  },
  {
   "cell_type": "code",
   "execution_count": null,
   "metadata": {},
   "outputs": [],
   "source": [
    "# the result tile needs to be created before the process tile \n",
    "# decide the display order of your tiles in the ui.ipynb notebook\n",
    "fao_visualization = tile.VisualizationTile(aoi_io, process_io)\n",
    "fao_export = tile.ExportTile(aoi_io, process_io)"
   ]
  },
  {
   "cell_type": "code",
   "execution_count": null,
   "metadata": {},
   "outputs": [],
   "source": [
    "# create the process tile \n",
    "fao_process = tile.ProcessTile(process_io, aoi_io, fao_visualization, fao_export)"
   ]
  },
  {
   "cell_type": "code",
   "execution_count": null,
   "metadata": {},
   "outputs": [],
   "source": [
    "# this tile will only be displayed if this very notebook is launched\n",
    "# useful for debugging\n",
    "fao_process"
   ]
  },
  {
   "cell_type": "code",
   "execution_count": null,
   "metadata": {},
   "outputs": [],
   "source": [
    "# this tile will only be displayed if this very notebook is launched\n",
    "# useful for debugging\n",
    "fao_visualization"
   ]
  },
  {
   "cell_type": "code",
   "execution_count": null,
   "metadata": {},
   "outputs": [],
   "source": [
    "fao_export"
   ]
  },
  {
   "cell_type": "code",
   "execution_count": null,
   "metadata": {},
   "outputs": [],
   "source": [
    "# to debug the io you can display it's magic __dict__ function \n",
    "# this variable will only be displayed if this very notebook is launched\n",
    "# useful for debugging\n",
    "process_io.__dict__"
   ]
  },
  {
   "cell_type": "code",
   "execution_count": null,
   "metadata": {},
   "outputs": [],
   "source": []
  }
 ],
 "metadata": {
  "kernelspec": {
   "display_name": "Python 3",
   "language": "python",
   "name": "python3"
  },
  "language_info": {
   "codemirror_mode": {
    "name": "ipython",
    "version": 3
   },
   "file_extension": ".py",
   "mimetype": "text/x-python",
   "name": "python",
   "nbconvert_exporter": "python",
   "pygments_lexer": "ipython3",
   "version": "3.6.9"
  }
 },
 "nbformat": 4,
 "nbformat_minor": 4
}
