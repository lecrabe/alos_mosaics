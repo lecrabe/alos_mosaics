{
 "cells": [
  {
   "cell_type": "code",
   "execution_count": 1,
   "metadata": {},
   "outputs": [],
   "source": [
    "# !!! testing purpose !!!\n",
    "# this cell is for testing the translation component \n",
    "# try uncomment the 2 following line to see the fr translation of the module\n",
    "#import os\n",
    "#os.environ[\"CUSTOM_LANGUAGE\"] = \"fr\""
   ]
  },
  {
   "cell_type": "code",
   "execution_count": 2,
   "metadata": {},
   "outputs": [
    {
     "data": {
      "application/vnd.jupyter.widget-view+json": {
       "model_id": "1f105fd1e7ec47c59a96ff620ae6595f",
       "version_major": 2,
       "version_minor": 0
      },
      "text/plain": [
       "HTML(value='\\n<style>\\n.leaflet-pane {\\n    z-index : 2 !important;\\n}\\n.leaflet-top, .leaflet-bottom {\\n    z…"
      ]
     },
     "metadata": {},
     "output_type": "display_data"
    },
    {
     "data": {
      "application/vnd.jupyter.widget-view+json": {
       "model_id": "95b6efb4a9dc42b786c775848e48587e",
       "version_major": 2,
       "version_minor": 0
      },
      "text/plain": [
       "ResizeTrigger()"
      ]
     },
     "metadata": {},
     "output_type": "display_data"
    }
   ],
   "source": [
    "from component import io \n",
    "from component import tile"
   ]
  },
  {
   "cell_type": "code",
   "execution_count": 3,
   "metadata": {},
   "outputs": [],
   "source": [
    "# fore debuggin purposes you can run all the tiles of your app without being in voila\n",
    "# if you free the methods from their try catch statement, you'll be able to see all the error traceback\n",
    "# you can also display the evolution of your io in extra cells along the process execution\n",
    "\n",
    "# of course the notebook should be run with 'kernel'->'restart and run all'"
   ]
  },
  {
   "cell_type": "code",
   "execution_count": 4,
   "metadata": {},
   "outputs": [],
   "source": [
    "# load the patial files\n",
    "%run 'aoi_ui.ipynb'\n",
    "%run 'process_ui.ipynb'\n",
    "%run 'about_ui.ipynb'"
   ]
  },
  {
   "cell_type": "code",
   "execution_count": 5,
   "metadata": {},
   "outputs": [
    {
     "data": {
      "application/vnd.jupyter.widget-view+json": {
       "model_id": "fa7e8e64da6f41639884a56015e2132c",
       "version_major": 2,
       "version_minor": 0
      },
      "text/plain": [
       "TileAoi(align_center=True, children=[Card(children=[Html(children=['AOI selection'], tag='h2'), Flex(children=…"
      ]
     },
     "metadata": {},
     "output_type": "display_data"
    }
   ],
   "source": [
    "# display each tile individually \n",
    "fao_aoi"
   ]
  },
  {
   "cell_type": "code",
   "execution_count": 6,
   "metadata": {},
   "outputs": [
    {
     "data": {
      "application/vnd.jupyter.widget-view+json": {
       "model_id": "963858efbc1c4f939f30087ed218b56d",
       "version_major": 2,
       "version_minor": 0
      },
      "text/plain": [
       "ProcessTile(align_center=True, children=[Card(children=[Html(children=['Process tile'], tag='h2'), Flex(childr…"
      ]
     },
     "metadata": {},
     "output_type": "display_data"
    }
   ],
   "source": [
    "fao_process"
   ]
  },
  {
   "cell_type": "code",
   "execution_count": 7,
   "metadata": {},
   "outputs": [
    {
     "data": {
      "application/vnd.jupyter.widget-view+json": {
       "model_id": "5ebee50afce3464e9fcd27a55da72d7d",
       "version_major": 2,
       "version_minor": 0
      },
      "text/plain": [
       "ResultTile(align_center=True, children=[Card(children=[Html(children=['Results'], tag='h2'), Flex(children=[Se…"
      ]
     },
     "metadata": {},
     "output_type": "display_data"
    }
   ],
   "source": [
    "fao_result"
   ]
  },
  {
   "cell_type": "code",
   "execution_count": null,
   "metadata": {},
   "outputs": [],
   "source": []
  }
 ],
 "metadata": {
  "kernelspec": {
   "display_name": "Python 3",
   "language": "python",
   "name": "python3"
  },
  "language_info": {
   "codemirror_mode": {
    "name": "ipython",
    "version": 3
   },
   "file_extension": ".py",
   "mimetype": "text/x-python",
   "name": "python",
   "nbconvert_exporter": "python",
   "pygments_lexer": "ipython3",
   "version": "3.6.9"
  }
 },
 "nbformat": 4,
 "nbformat_minor": 4
}
